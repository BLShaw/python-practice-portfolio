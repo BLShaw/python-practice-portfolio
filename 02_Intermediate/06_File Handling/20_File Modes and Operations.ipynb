{
 "cells": [
  {
   "cell_type": "code",
   "execution_count": 2,
   "metadata": {},
   "outputs": [
    {
     "name": "stdout",
     "output_type": "stream",
     "text": [
      "File content: Hello, Shaw! You are now editing your example text file.Hello, Shaw! You are now editing your example text file.Hello, Shaw! You are now editing your example text file.\n"
     ]
    }
   ],
   "source": [
    "with open('example.txt', 'r') as file:\n",
    "    content = file.read()\n",
    "    print(\"File content:\", content)"
   ]
  },
  {
   "cell_type": "code",
   "execution_count": 7,
   "metadata": {},
   "outputs": [
    {
     "name": "stdout",
     "output_type": "stream",
     "text": [
      "File has been written successfully.\n"
     ]
    }
   ],
   "source": [
    "with open('example.txt', 'w') as file:\n",
    "    file.write(\"Hello, Shaw!\\n\")\n",
    "    file.write(\"This is now your updated file.\\n\")\n",
    "\n",
    "    print(\"File has been written successfully.\")"
   ]
  },
  {
   "cell_type": "code",
   "execution_count": 8,
   "metadata": {},
   "outputs": [
    {
     "name": "stdout",
     "output_type": "stream",
     "text": [
      "File has been appended successfully.\n"
     ]
    }
   ],
   "source": [
    "with open('example.txt', 'a') as file:\n",
    "    file.write(\"This is your new line of text.\\n\")\n",
    "\n",
    "    print(\"File has been appended successfully.\")"
   ]
  }
 ],
 "metadata": {
  "kernelspec": {
   "display_name": "Python 3",
   "language": "python",
   "name": "python3"
  },
  "language_info": {
   "codemirror_mode": {
    "name": "ipython",
    "version": 3
   },
   "file_extension": ".py",
   "mimetype": "text/x-python",
   "name": "python",
   "nbconvert_exporter": "python",
   "pygments_lexer": "ipython3",
   "version": "3.13.2"
  }
 },
 "nbformat": 4,
 "nbformat_minor": 2
}
