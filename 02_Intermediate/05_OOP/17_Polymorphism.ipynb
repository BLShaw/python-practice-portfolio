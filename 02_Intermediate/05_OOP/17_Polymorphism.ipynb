{
 "cells": [
  {
   "cell_type": "code",
   "execution_count": null,
   "metadata": {},
   "outputs": [],
   "source": [
    "class Animal:\n",
    "    def speak(self):\n",
    "        pass\n",
    "\n",
    "class Dog(Animal):\n",
    "    def speak(self):\n",
    "        pass\n",
    "\n",
    "class Cat(Animal):\n",
    "    def speak(self):\n",
    "        pass"
   ]
  },
  {
   "cell_type": "code",
   "execution_count": null,
   "metadata": {},
   "outputs": [
    {
     "name": "stdout",
     "output_type": "stream",
     "text": [
      "Dog Woofs!\n",
      "Cat Meows!\n"
     ]
    }
   ],
   "source": [
    "class Animal:\n",
    "    def speak(self):\n",
    "        print(\"Animal speaks\")\n",
    "\n",
    "class Dog(Animal):\n",
    "    def speak(self):\n",
    "        print(\"Dog Woofs!\")\n",
    "\n",
    "class Cat(Animal):\n",
    "    def speak(self):\n",
    "        print(\"Cat Meows!\")\n",
    "\n",
    "animals = [Dog(), Cat()]\n",
    "\n",
    "for a in animals:\n",
    "    a.speak()"
   ]
  },
  {
   "cell_type": "code",
   "execution_count": 8,
   "metadata": {},
   "outputs": [
    {
     "name": "stdout",
     "output_type": "stream",
     "text": [
      "Bird Chirps\n",
      "Sparrow Chirps\n"
     ]
    }
   ],
   "source": [
    "class Bird:\n",
    "    def speak(self):\n",
    "        print(\"Bird Chirps\")\n",
    "\n",
    "class Sparrow(Bird):\n",
    "    def speak(self):\n",
    "        print(\"Sparrow Chirps\")\n",
    "\n",
    "class Parrot(Bird):\n",
    "    def speak(itself):\n",
    "        print(\"Parrot Talks\")\n",
    "\n",
    "def animal_speak(animal):\n",
    "    animal.speak()\n",
    "\n",
    "bird = Bird()\n",
    "sparrow = Sparrow()\n",
    "animal_speak(bird)\n",
    "animal_speak(sparrow)\n"
   ]
  }
 ],
 "metadata": {
  "kernelspec": {
   "display_name": "Python 3",
   "language": "python",
   "name": "python3"
  },
  "language_info": {
   "codemirror_mode": {
    "name": "ipython",
    "version": 3
   },
   "file_extension": ".py",
   "mimetype": "text/x-python",
   "name": "python",
   "nbconvert_exporter": "python",
   "pygments_lexer": "ipython3",
   "version": "3.13.2"
  }
 },
 "nbformat": 4,
 "nbformat_minor": 2
}
