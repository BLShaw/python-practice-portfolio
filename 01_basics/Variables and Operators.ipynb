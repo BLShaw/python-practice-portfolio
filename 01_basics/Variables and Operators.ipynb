{
  "nbformat": 4,
  "nbformat_minor": 0,
  "metadata": {
    "colab": {
      "provenance": []
    },
    "kernelspec": {
      "name": "python3",
      "display_name": "Python 3"
    },
    "language_info": {
      "name": "python"
    }
  },
  "cells": [
    {
      "cell_type": "markdown",
      "source": [
        "Variables:"
      ],
      "metadata": {
        "id": "K2_h8_lYxdOq"
      }
    },
    {
      "cell_type": "code",
      "execution_count": 1,
      "metadata": {
        "colab": {
          "base_uri": "https://localhost:8080/"
        },
        "id": "cybfovA5w6Kg",
        "outputId": "2cfd527c-cd1f-44b9-cb4f-159681de153e"
      },
      "outputs": [
        {
          "output_type": "stream",
          "name": "stdout",
          "text": [
            "Shaw\n",
            "18\n",
            "299.9\n"
          ]
        }
      ],
      "source": [
        "name = \"Shaw\"\n",
        "age = 18\n",
        "salary = 299.9\n",
        "\n",
        "print (name)\n",
        "print (age)\n",
        "print (salary)"
      ]
    },
    {
      "cell_type": "markdown",
      "source": [
        "Operators:"
      ],
      "metadata": {
        "id": "IvvZHSIbxfJ6"
      }
    },
    {
      "cell_type": "code",
      "source": [
        "a = 10\n",
        "b = 5\n",
        "\n",
        "sum = a + b\n",
        "diff = a - b\n",
        "mul = a * b\n",
        "div = a / b\n",
        "\n",
        "print(f\"Sum of {a} and {b} = {sum}\")\n",
        "print(f\"Sifference between {a} and {b} = {diff}\")\n",
        "print(f\"Multiplication of {a} and {b} = {mul}\")\n",
        "print(f\"Division of {a} and {b} = {div}\")"
      ],
      "metadata": {
        "colab": {
          "base_uri": "https://localhost:8080/"
        },
        "id": "JShl-WHLxgVq",
        "outputId": "ec8e3013-e500-4234-e0b9-2eedb6d0027b"
      },
      "execution_count": 6,
      "outputs": [
        {
          "output_type": "stream",
          "name": "stdout",
          "text": [
            "Sum of 10 and 5 = 15\n",
            "Sifference between 10 and 5 = 5\n",
            "Multiplication of 10 and 5 = 50\n",
            "Division of 10 and 5 = 2.0\n"
          ]
        }
      ]
    },
    {
      "cell_type": "code",
      "source": [
        "x = 5\n",
        "y = 10\n",
        "\n",
        "print(f\"x is equal to y: {x == y}\")\n",
        "print(f\"x is not equal to y: {x != y}\")\n",
        "print(f\"x is greater than y: {x > y}\")\n",
        "print(f\"x is less than y: {x < y}\")\n",
        "print(f\"Is x less than 10 and y greater than 5: {x<=10 and y>=5}\")"
      ],
      "metadata": {
        "colab": {
          "base_uri": "https://localhost:8080/"
        },
        "id": "hISLw2uqyQoS",
        "outputId": "19a1e8a8-8c15-42f9-a8fb-ee303cfd91cd"
      },
      "execution_count": 8,
      "outputs": [
        {
          "output_type": "stream",
          "name": "stdout",
          "text": [
            "x is equal to y: False\n",
            "x is not equal to y: True\n",
            "x is greater than y: False\n",
            "x is less than y: True\n",
            "Is x less than 10 and y greater than 5: True\n"
          ]
        }
      ]
    }
  ]
}