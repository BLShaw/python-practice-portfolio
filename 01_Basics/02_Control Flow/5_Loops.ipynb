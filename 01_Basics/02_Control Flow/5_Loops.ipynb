{
 "cells": [
  {
   "cell_type": "code",
   "execution_count": 2,
   "metadata": {},
   "outputs": [
    {
     "name": "stdout",
     "output_type": "stream",
     "text": [
      "Number: 1\n",
      "Number: 2\n",
      "Number: 3\n",
      "Number: 4\n",
      "Number: 5\n",
      "Number: 6\n",
      "Number: 7\n",
      "Number: 8\n",
      "Number: 9\n",
      "Number: 10\n"
     ]
    }
   ],
   "source": [
    "for i in range (1,11):\n",
    "    print(f\"Number: {i}\")"
   ]
  },
  {
   "cell_type": "code",
   "execution_count": null,
   "metadata": {},
   "outputs": [
    {
     "name": "stdout",
     "output_type": "stream",
     "text": [
      "The sum of numbers from 1 to 6 (range): 21\n"
     ]
    }
   ],
   "source": [
    "total = 0\n",
    "num = 1\n",
    "\n",
    "while num <= 6:\n",
    "    total += num\n",
    "    num += 1\n",
    "\n",
    "print(f\"The sum of numbers from 1 to 6 (range): {total}\")"
   ]
  }
 ],
 "metadata": {
  "kernelspec": {
   "display_name": "Python 3",
   "language": "python",
   "name": "python3"
  },
  "language_info": {
   "codemirror_mode": {
    "name": "ipython",
    "version": 3
   },
   "file_extension": ".py",
   "mimetype": "text/x-python",
   "name": "python",
   "nbconvert_exporter": "python",
   "pygments_lexer": "ipython3",
   "version": "3.13.2"
  }
 },
 "nbformat": 4,
 "nbformat_minor": 2
}
