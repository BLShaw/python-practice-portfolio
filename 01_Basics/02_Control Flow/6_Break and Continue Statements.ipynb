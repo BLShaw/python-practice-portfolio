{
 "cells": [
  {
   "cell_type": "code",
   "execution_count": null,
   "metadata": {},
   "outputs": [
    {
     "name": "stdout",
     "output_type": "stream",
     "text": [
      "Checking 1...\n",
      "Checking 3...\n",
      "Checking 5...\n",
      "Checking 7...\n",
      "Found the number 9, breaking the loop.\n"
     ]
    }
   ],
   "source": [
    "numbers = [1,3,5,7,9]\n",
    "for num in numbers:\n",
    "    if num == 9:\n",
    "        print(f\"Found the number {num}, exiting the loop.\")\n",
    "        break\n",
    "    print(f\"Checking {num}...\")"
   ]
  },
  {
   "cell_type": "code",
   "execution_count": 4,
   "metadata": {},
   "outputs": [
    {
     "name": "stdout",
     "output_type": "stream",
     "text": [
      "1\n",
      "3\n",
      "5\n",
      "7\n",
      "9\n"
     ]
    }
   ],
   "source": [
    "for i in range(1,10):\n",
    "    if i % 2 == 0:\n",
    "        continue\n",
    "    print(i)"
   ]
  },
  {
   "cell_type": "code",
   "execution_count": 8,
   "metadata": {},
   "outputs": [
    {
     "name": "stdout",
     "output_type": "stream",
     "text": [
      "The first odd number is greater than 5 is 6.\n"
     ]
    }
   ],
   "source": [
    "numbers = [2,4,6,7,8,9]\n",
    "\n",
    "for num in numbers:\n",
    "    if num <=5:\n",
    "        continue\n",
    "    if num & 2 !=0:\n",
    "        print(f\"The first odd number is greater than 5 is {num}.\")\n",
    "        break"
   ]
  }
 ],
 "metadata": {
  "kernelspec": {
   "display_name": "Python 3",
   "language": "python",
   "name": "python3"
  },
  "language_info": {
   "codemirror_mode": {
    "name": "ipython",
    "version": 3
   },
   "file_extension": ".py",
   "mimetype": "text/x-python",
   "name": "python",
   "nbconvert_exporter": "python",
   "pygments_lexer": "ipython3",
   "version": "3.13.2"
  }
 },
 "nbformat": 4,
 "nbformat_minor": 2
}
