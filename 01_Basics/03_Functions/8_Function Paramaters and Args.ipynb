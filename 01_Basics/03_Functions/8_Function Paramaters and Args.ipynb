{
 "cells": [
  {
   "cell_type": "code",
   "execution_count": 5,
   "metadata": {},
   "outputs": [
    {
     "name": "stdout",
     "output_type": "stream",
     "text": [
      "The sum of 5 and 10 is 15\n",
      "The sum of 20 and 30 is 50\n"
     ]
    }
   ],
   "source": [
    "def add_numbers(a: int, b: int) -> None:\n",
    "    print(f\"The sum of {a} and {b} is {a + b}\")\n",
    "\n",
    "add_numbers(a=5, b=10)\n",
    "add_numbers(a=20, b=30)"
   ]
  },
  {
   "cell_type": "code",
   "execution_count": 6,
   "metadata": {},
   "outputs": [
    {
     "name": "stdout",
     "output_type": "stream",
     "text": [
      "Hello, Alice!\n",
      "Hi, Shaw!\n"
     ]
    }
   ],
   "source": [
    "def greet_user(name, greeting=\"Hello\"):\n",
    "    print(f\"{greeting}, {name}!\")\n",
    "\n",
    "greet_user(\"Alice\")\n",
    "greet_user(\"Shaw\", greeting=\"Hi\")"
   ]
  },
  {
   "cell_type": "code",
   "execution_count": 12,
   "metadata": {},
   "outputs": [
    {
     "name": "stdout",
     "output_type": "stream",
     "text": [
      "Shaw is 99 years old and lives in Islamabad\n",
      "John is 70 years old and lives in New York\n"
     ]
    }
   ],
   "source": [
    "def display_info(name, age, city):\n",
    "    print(f\"{name} is {age} years old and lives in {city}\")\n",
    "\n",
    "display_info(\"Shaw\", 99, \"Islamabad\")\n",
    "display_info(name=\"John\", age=(70), city=\"New York\")"
   ]
  }
 ],
 "metadata": {
  "kernelspec": {
   "display_name": "Python 3",
   "language": "python",
   "name": "python3"
  },
  "language_info": {
   "codemirror_mode": {
    "name": "ipython",
    "version": 3
   },
   "file_extension": ".py",
   "mimetype": "text/x-python",
   "name": "python",
   "nbconvert_exporter": "python",
   "pygments_lexer": "ipython3",
   "version": "3.13.2"
  }
 },
 "nbformat": 4,
 "nbformat_minor": 2
}
