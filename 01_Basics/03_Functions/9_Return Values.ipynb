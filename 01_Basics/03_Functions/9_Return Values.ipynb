{
 "cells": [
  {
   "cell_type": "code",
   "execution_count": 2,
   "metadata": {},
   "outputs": [
    {
     "name": "stdout",
     "output_type": "stream",
     "text": [
      "Hello, Shaw!\n"
     ]
    }
   ],
   "source": [
    "def greet():\n",
    "    return \"Hello, Shaw!\"\n",
    "\n",
    "message=greet()\n",
    "print(message)"
   ]
  },
  {
   "cell_type": "code",
   "execution_count": 6,
   "metadata": {},
   "outputs": [
    {
     "name": "stdout",
     "output_type": "stream",
     "text": [
      "The result of multiplication between 5 and 10 is: 50\n"
     ]
    }
   ],
   "source": [
    "def multiply(a, b):\n",
    "    return a * b\n",
    "\n",
    "a, b = 5, 10\n",
    "result = multiply(a, b)\n",
    "print(f\"The result of multiplication between {a} and {b} is: {result}\")"
   ]
  },
  {
   "cell_type": "code",
   "execution_count": 8,
   "metadata": {},
   "outputs": [
    {
     "name": "stdout",
     "output_type": "stream",
     "text": [
      "Name: Shaw, Age: 99\n"
     ]
    }
   ],
   "source": [
    "def get_person_info(name, age):\n",
    "    return name, age\n",
    "\n",
    "name, age = get_person_info(\"Shaw\", 99)\n",
    "print(f\"Name: {name}, Age: {age}\")"
   ]
  }
 ],
 "metadata": {
  "kernelspec": {
   "display_name": "Python 3",
   "language": "python",
   "name": "python3"
  },
  "language_info": {
   "codemirror_mode": {
    "name": "ipython",
    "version": 3
   },
   "file_extension": ".py",
   "mimetype": "text/x-python",
   "name": "python",
   "nbconvert_exporter": "python",
   "pygments_lexer": "ipython3",
   "version": "3.13.2"
  }
 },
 "nbformat": 4,
 "nbformat_minor": 2
}
