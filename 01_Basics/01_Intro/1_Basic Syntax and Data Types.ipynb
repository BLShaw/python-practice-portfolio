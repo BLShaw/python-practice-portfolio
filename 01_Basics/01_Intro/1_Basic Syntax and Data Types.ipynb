{
  "nbformat": 4,
  "nbformat_minor": 0,
  "metadata": {
    "colab": {
      "provenance": []
    },
    "kernelspec": {
      "name": "python3",
      "display_name": "Python 3"
    },
    "language_info": {
      "name": "python"
    }
  },
  "cells": [
    {
      "cell_type": "markdown",
      "source": [
        "**Python Basic Syntax and Data Types**"
      ],
      "metadata": {
        "id": "N-1Rz5G_jDV8"
      }
    },
    {
      "cell_type": "code",
      "execution_count": 9,
      "metadata": {
        "colab": {
          "base_uri": "https://localhost:8080/"
        },
        "id": "SFcF0X42hQ1p",
        "outputId": "6c09855d-a6c8-4faa-de57-39255d33e4a5"
      },
      "outputs": [
        {
          "output_type": "stream",
          "name": "stdout",
          "text": [
            "Python\n"
          ]
        }
      ],
      "source": [
        "print(\"Python\")"
      ]
    },
    {
      "cell_type": "code",
      "source": [
        "#Comment\n",
        "\n",
        "\"\"\"\n",
        "Multi\n",
        "Line\n",
        "Comment\n",
        "\"\"\""
      ],
      "metadata": {
        "colab": {
          "base_uri": "https://localhost:8080/",
          "height": 35
        },
        "id": "khrL7fTiiBVQ",
        "outputId": "62ff5fae-490e-4f0a-dd6e-70ac2b7e59a1"
      },
      "execution_count": 20,
      "outputs": [
        {
          "output_type": "execute_result",
          "data": {
            "text/plain": [
              "'\\nMulti\\nLine\\nComment\\n'"
            ],
            "application/vnd.google.colaboratory.intrinsic+json": {
              "type": "string"
            }
          },
          "metadata": {},
          "execution_count": 20
        }
      ]
    },
    {
      "cell_type": "code",
      "source": [
        "x=10\n",
        "y=\"Python\"\n",
        "print(x)\n",
        "print(y)"
      ],
      "metadata": {
        "colab": {
          "base_uri": "https://localhost:8080/"
        },
        "id": "kl7eq5wFiHy-",
        "outputId": "807296e8-b992-4430-b6cb-268b8dd1956b"
      },
      "execution_count": 18,
      "outputs": [
        {
          "output_type": "stream",
          "name": "stdout",
          "text": [
            "10\n",
            "Python\n"
          ]
        }
      ]
    },
    {
      "cell_type": "code",
      "source": [
        "var1=5\n",
        "var2=10\n",
        "var3=var1+var2\n",
        "print(var3)"
      ],
      "metadata": {
        "colab": {
          "base_uri": "https://localhost:8080/"
        },
        "id": "VlNhA3sgiDD2",
        "outputId": "dd454ebd-96cb-468a-9002-4cb7d3e62239"
      },
      "execution_count": 6,
      "outputs": [
        {
          "output_type": "stream",
          "name": "stdout",
          "text": [
            "15\n"
          ]
        }
      ]
    },
    {
      "cell_type": "code",
      "source": [
        "a=10\n",
        "b=3.14\n",
        "c=\"Python\"\n",
        "d=3+4j\n",
        "e=True\n",
        "print(type(a))\n",
        "print(type(b))\n",
        "print(type(c))\n",
        "print(type(d))\n",
        "print(type(e))"
      ],
      "metadata": {
        "colab": {
          "base_uri": "https://localhost:8080/"
        },
        "id": "4uBAmmh2iWwX",
        "outputId": "729f59d5-62a1-4a74-b97c-9b417cce8726"
      },
      "execution_count": 22,
      "outputs": [
        {
          "output_type": "stream",
          "name": "stdout",
          "text": [
            "<class 'int'>\n",
            "<class 'float'>\n",
            "<class 'str'>\n",
            "<class 'complex'>\n",
            "<class 'bool'>\n"
          ]
        }
      ]
    },
    {
      "cell_type": "code",
      "source": [
        "mylist=[1,\"hello\",3.16]\n",
        "print(mylist)"
      ],
      "metadata": {
        "colab": {
          "base_uri": "https://localhost:8080/"
        },
        "id": "hM2XOwbnjICu",
        "outputId": "949606e5-9c2c-4c9a-8e72-5cfdbfcf3b87"
      },
      "execution_count": 19,
      "outputs": [
        {
          "output_type": "stream",
          "name": "stdout",
          "text": [
            "[1, 'hello', 3.16]\n"
          ]
        }
      ]
    }
  ]
}