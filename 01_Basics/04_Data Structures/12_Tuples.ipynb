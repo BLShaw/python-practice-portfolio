{
 "cells": [
  {
   "cell_type": "markdown",
   "metadata": {},
   "source": [
    "Tuples are similar to lists but immutable, values cannot be modified.\n",
    "Syntax is var = (1,2,3)"
   ]
  },
  {
   "cell_type": "code",
   "execution_count": null,
   "metadata": {},
   "outputs": [
    {
     "name": "stdout",
     "output_type": "stream",
     "text": [
      "(1, 2, 3, 4, 5)\n",
      "('apple', 'banana', 'cherry')\n",
      "apple\n",
      "banana\n"
     ]
    }
   ],
   "source": [
    "mytuple=(1,2,3,4,5)\n",
    "mytuple2=('apple', 'banana', 'cherry')\n",
    "\n",
    "print(mytuple)\n",
    "print(mytuple2)\n",
    "\n",
    "print(mytuple2[0])\n",
    "print(mytuple2[1])"
   ]
  },
  {
   "cell_type": "code",
   "execution_count": 8,
   "metadata": {},
   "outputs": [
    {
     "name": "stdout",
     "output_type": "stream",
     "text": [
      "(1, 2, 3, 4, 5)\n",
      "(1, 2, 3, 1, 2, 3, 1, 2, 3, 1, 2, 3)\n"
     ]
    }
   ],
   "source": [
    "tuple1=(1,2,3)\n",
    "tuple2=(4,5)\n",
    "\n",
    "newtuple=tuple1+tuple2\n",
    "print(newtuple)\n",
    "\n",
    "repeattuple=tuple1*4\n",
    "print(repeattuple)"
   ]
  },
  {
   "cell_type": "code",
   "execution_count": 16,
   "metadata": {},
   "outputs": [
    {
     "name": "stdout",
     "output_type": "stream",
     "text": [
      "(1, 2, (3, 4), 5, 6)\n",
      "3\n"
     ]
    }
   ],
   "source": [
    "nestedtuple = (1,2,(3,4),5,6)\n",
    "\n",
    "print(nestedtuple)\n",
    "print(nestedtuple[2][0])  # Accessing the first element of the nested tuple (3,4)\n"
   ]
  },
  {
   "cell_type": "code",
   "execution_count": null,
   "metadata": {},
   "outputs": [
    {
     "name": "stdout",
     "output_type": "stream",
     "text": [
      "1\n",
      "4\n",
      "2\n"
     ]
    }
   ],
   "source": [
    "mytuple=(1,2,3,4,5)\n",
    "print(mytuple.count(2)) # Returns the count of occurrences of 2 in the tuple\n",
    "print(mytuple.index(5))  # Returns the index of the first occurrence of 5\n",
    "print(mytuple.index(3))  # Returns the index of the first occurrence of 3"
   ]
  }
 ],
 "metadata": {
  "kernelspec": {
   "display_name": "Python 3",
   "language": "python",
   "name": "python3"
  },
  "language_info": {
   "codemirror_mode": {
    "name": "ipython",
    "version": 3
   },
   "file_extension": ".py",
   "mimetype": "text/x-python",
   "name": "python",
   "nbconvert_exporter": "python",
   "pygments_lexer": "ipython3",
   "version": "3.13.2"
  }
 },
 "nbformat": 4,
 "nbformat_minor": 2
}
