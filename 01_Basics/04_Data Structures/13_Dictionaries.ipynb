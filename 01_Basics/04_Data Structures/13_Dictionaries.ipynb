{
 "cells": [
  {
   "cell_type": "code",
   "execution_count": 5,
   "metadata": {},
   "outputs": [
    {
     "name": "stdout",
     "output_type": "stream",
     "text": [
      "{'name': 'Shaw', 'age': 99, 'city': 'New York'}\n",
      "Shaw\n",
      "99\n"
     ]
    }
   ],
   "source": [
    "Person1={\"name\": \"Shaw\", \"age\": 99, \"city\": \"New York\"}\n",
    "\n",
    "print(Person1)\n",
    "print(Person1[\"name\"])\n",
    "print(Person1[\"age\"])"
   ]
  },
  {
   "cell_type": "code",
   "execution_count": 7,
   "metadata": {},
   "outputs": [
    {
     "name": "stdout",
     "output_type": "stream",
     "text": [
      "{'name': 'Shaw', 'age': 100, 'email': 'shaw@email.com'}\n"
     ]
    }
   ],
   "source": [
    "Person1={\"name\": \"Shaw\", \"age\": 99, \"city\": \"New York\"}\n",
    "\n",
    "Person1[\"email\"] = \"shaw@email.com\"\n",
    "Person1[\"age\"] = 100\n",
    "del Person1[\"city\"]\n",
    "\n",
    "print(Person1)"
   ]
  },
  {
   "cell_type": "code",
   "execution_count": 8,
   "metadata": {},
   "outputs": [
    {
     "name": "stdout",
     "output_type": "stream",
     "text": [
      "name: Shaw\n",
      "age: 99\n",
      "city: New York\n"
     ]
    }
   ],
   "source": [
    "Person1={\"name\": \"Shaw\", \"age\": 99, \"city\": \"New York\"}\n",
    "\n",
    "for key, value in Person1.items():\n",
    "    print(f\"{key}: {value}\")"
   ]
  },
  {
   "cell_type": "code",
   "execution_count": null,
   "metadata": {},
   "outputs": [
    {
     "name": "stdout",
     "output_type": "stream",
     "text": [
      "dict_keys(['name', 'age', 'city'])\n",
      "dict_values(['Shaw', 99, 'New York'])\n",
      "Shaw\n"
     ]
    }
   ],
   "source": [
    "Person1={\"name\": \"Shaw\", \"age\": 99, \"city\": \"New York\"}\n",
    "\n",
    "print(Person1.keys())\n",
    "print(Person1.values())\n",
    "print(Person1.get(\"name\"))"
   ]
  }
 ],
 "metadata": {
  "kernelspec": {
   "display_name": "Python 3",
   "language": "python",
   "name": "python3"
  },
  "language_info": {
   "codemirror_mode": {
    "name": "ipython",
    "version": 3
   },
   "file_extension": ".py",
   "mimetype": "text/x-python",
   "name": "python",
   "nbconvert_exporter": "python",
   "pygments_lexer": "ipython3",
   "version": "3.13.2"
  }
 },
 "nbformat": 4,
 "nbformat_minor": 2
}
