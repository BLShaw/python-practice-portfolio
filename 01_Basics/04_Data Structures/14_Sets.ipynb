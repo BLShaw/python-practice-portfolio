{
 "cells": [
  {
   "cell_type": "code",
   "execution_count": 5,
   "metadata": {},
   "outputs": [
    {
     "name": "stdout",
     "output_type": "stream",
     "text": [
      "{1, 2, 3, 4, 5}\n",
      "{1, 2, 3, 4, 5, 6}\n",
      "{1, 3, 4, 5, 6}\n"
     ]
    }
   ],
   "source": [
    "myset = {1,2,3,4,5}\n",
    "print(myset)\n",
    "\n",
    "myset.add(6)\n",
    "print(myset)\n",
    "\n",
    "myset.remove(2)\n",
    "print(myset)"
   ]
  },
  {
   "cell_type": "code",
   "execution_count": 11,
   "metadata": {},
   "outputs": [
    {
     "name": "stdout",
     "output_type": "stream",
     "text": [
      "Union Set is:  {1, 2, 3, 4, 5}\n",
      "Intersection Set is:  {3}\n",
      "Difference Set is:  {1, 2}\n"
     ]
    }
   ],
   "source": [
    "myset = {1,2,3,4,5}\n",
    "\n",
    "set_a={1,2,3}\n",
    "set_b={3,4,5}\n",
    "\n",
    "union_set = set_a.union(set_b)\n",
    "print(\"Union Set is: \",union_set)\n",
    "\n",
    "intersection_set = set_a.intersection(set_b)\n",
    "print(\"Intersection Set is: \",intersection_set)\n",
    "\n",
    "difference_set = set_a.difference(set_b)\n",
    "print(\"Difference Set is: \",difference_set)"
   ]
  },
  {
   "cell_type": "code",
   "execution_count": 12,
   "metadata": {},
   "outputs": [
    {
     "name": "stdout",
     "output_type": "stream",
     "text": [
      "Unique Set is:  {1, 2, 3, 4, 5}\n"
     ]
    }
   ],
   "source": [
    "myset = {1,2,2,3,4,4,5}\n",
    "unique_set = set(myset) # Convert to set to remove duplicates\n",
    "print(\"Unique Set is: \", unique_set)"
   ]
  }
 ],
 "metadata": {
  "kernelspec": {
   "display_name": "Python 3",
   "language": "python",
   "name": "python3"
  },
  "language_info": {
   "codemirror_mode": {
    "name": "ipython",
    "version": 3
   },
   "file_extension": ".py",
   "mimetype": "text/x-python",
   "name": "python",
   "nbconvert_exporter": "python",
   "pygments_lexer": "ipython3",
   "version": "3.13.2"
  }
 },
 "nbformat": 4,
 "nbformat_minor": 2
}
