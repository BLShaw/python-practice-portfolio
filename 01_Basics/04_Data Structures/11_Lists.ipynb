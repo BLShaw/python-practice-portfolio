{
 "cells": [
  {
   "cell_type": "markdown",
   "metadata": {},
   "source": [
    "A list is an ordered collection of items that allows you to store multiple items in a single variable\n",
    "Usage: Squared brackets separated by cols."
   ]
  },
  {
   "cell_type": "code",
   "execution_count": 14,
   "metadata": {},
   "outputs": [
    {
     "name": "stdout",
     "output_type": "stream",
     "text": [
      "[1, 'Shaw', 3.14, True, None]\n",
      "Shaw\n",
      "[1, 'Shaw', 3.14]\n",
      "None\n",
      "First item:  1 and Last item:  None\n"
     ]
    }
   ],
   "source": [
    "mylist=[1,\"Shaw\",3.14,True, None]\n",
    "print(mylist)\n",
    "print(mylist[1])\n",
    "print(mylist[0:3])\n",
    "print(mylist[-1])\n",
    "\n",
    "first_element = mylist[0]\n",
    "last_element = mylist[-1]\n",
    "\n",
    "print(\"First item: \", first_element, \"and Last item: \", last_element)"
   ]
  },
  {
   "cell_type": "code",
   "execution_count": 18,
   "metadata": {},
   "outputs": [
    {
     "name": "stdout",
     "output_type": "stream",
     "text": [
      "[1, 'John Doe', 3.14, True, None]\n",
      "[1, 'John Doe', 3.14, True, None, 'Pineapple']\n",
      "[1, 'John Doe', True, None, 'Pineapple']\n",
      "['Pineapple', None, True, 'John Doe', 1]\n"
     ]
    }
   ],
   "source": [
    "mylist=[1,\"Shaw\",3.14,True, None]\n",
    "\n",
    "mylist[1]=\"John Doe\"\n",
    "print(mylist)\n",
    "\n",
    "mylist.append(\"Pineapple\")\n",
    "print(mylist)\n",
    "\n",
    "mylist.remove(3.14)\n",
    "print(mylist)\n",
    "\n",
    "mylist.reverse()\n",
    "print(mylist)"
   ]
  },
  {
   "cell_type": "code",
   "execution_count": 21,
   "metadata": {},
   "outputs": [
    {
     "name": "stdout",
     "output_type": "stream",
     "text": [
      "['Shaw', 3.14]\n"
     ]
    }
   ],
   "source": [
    "mylist=[1,\"Shaw\",3.14,True, None]\n",
    "\n",
    "sublist = mylist[1:3] #Last element is not included\n",
    "print(sublist)"
   ]
  },
  {
   "cell_type": "code",
   "execution_count": 23,
   "metadata": {},
   "outputs": [
    {
     "name": "stdout",
     "output_type": "stream",
     "text": [
      "Length of the list is:  5\n"
     ]
    }
   ],
   "source": [
    "mylist=[1,\"Shaw\",3.14,True, None]\n",
    "listlength = len(mylist)\n",
    "print(\"Length of the list is: \", listlength)"
   ]
  },
  {
   "cell_type": "code",
   "execution_count": 25,
   "metadata": {},
   "outputs": [
    {
     "name": "stdout",
     "output_type": "stream",
     "text": [
      "[1, 2, 3, 4, 5, 6, 7, 8, 9]\n"
     ]
    }
   ],
   "source": [
    "mylist=[6,3,4,8,2,1,9,7,5]\n",
    "mylist.sort()\n",
    "print(mylist)"
   ]
  }
 ],
 "metadata": {
  "kernelspec": {
   "display_name": "Python 3",
   "language": "python",
   "name": "python3"
  },
  "language_info": {
   "codemirror_mode": {
    "name": "ipython",
    "version": 3
   },
   "file_extension": ".py",
   "mimetype": "text/x-python",
   "name": "python",
   "nbconvert_exporter": "python",
   "pygments_lexer": "ipython3",
   "version": "3.13.2"
  }
 },
 "nbformat": 4,
 "nbformat_minor": 2
}
